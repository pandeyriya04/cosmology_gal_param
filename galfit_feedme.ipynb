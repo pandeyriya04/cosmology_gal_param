{
 "cells": [
  {
   "cell_type": "code",
   "execution_count": 1,
   "id": "dca579b7-c4bf-4396-ac65-7ed9d942e437",
   "metadata": {},
   "outputs": [
    {
     "name": "stdout",
     "output_type": "stream",
     "text": [
      "    position_x  position_y  magnitude  effective_radius  sersic_index  \\\n",
      "0          358         229         26                 4             4   \n",
      "1          296         234         26                 4             4   \n",
      "2          365         287         26                 4             4   \n",
      "3          332         316         26                 4             4   \n",
      "4          249         330         26                 4             4   \n",
      "5          316         343         26                 4             4   \n",
      "6          327         344         26                 4             4   \n",
      "7          335         354         26                 4             4   \n",
      "8          317         364         26                 4             4   \n",
      "9          285         368         26                 4             4   \n",
      "10         387         370         26                 4             4   \n",
      "\n",
      "    axis_ratio  position_angle  \n",
      "0          0.5              60  \n",
      "1          0.5              60  \n",
      "2          0.5              60  \n",
      "3          0.5              60  \n",
      "4          0.5              60  \n",
      "5          0.5              60  \n",
      "6          0.5              60  \n",
      "7          0.5              60  \n",
      "8          0.5              60  \n",
      "9          0.5              60  \n",
      "10         0.5              60  \n"
     ]
    }
   ],
   "source": [
    "import pandas as pd\n",
    "\n",
    "csv_file = r'/home/riya/Desktop/gal_fit/nircam6/crop1/test.csv'\n",
    "df = pd.read_csv(csv_file)\n",
    "\n",
    "print(df)\n"
   ]
  },
  {
   "cell_type": "code",
   "execution_count": 2,
   "id": "12d0fca6-729a-4ec5-aa52-7ac1590e728f",
   "metadata": {},
   "outputs": [
    {
     "name": "stdout",
     "output_type": "stream",
     "text": [
      "Generated /home/riya/Desktop/gal_fit/nircam6/test.feedme\n"
     ]
    }
   ],
   "source": [
    "# Define the column names based on your Excel file structure\n",
    "columns = {\n",
    "    'position_x': 'position_x',\n",
    "    'position_y': 'position_y',\n",
    "    'magnitude': 'magnitude',\n",
    "    'effective_radius': 'effective_radius',\n",
    "    'sersic_index': 'sersic_index',\n",
    "    'axis_ratio': 'axis_ratio',\n",
    "    'position_angle': 'position_angle',\n",
    "}\n",
    "\n",
    "# Initialize an empty string to accumulate all component data\n",
    "feedme_content = \"\"\"===============================================================================\n",
    "# IMAGE and GALFIT CONTROL PARAMETERS\n",
    "A) your_image_file.fits     # Input data image (FITS file)\n",
    "B) output.fits             # Output data image block\n",
    "C) none                    # Sigma image name (made from data if blank or \"none\") \n",
    "D) none                    # Input PSF image and (optional) diffusion kernel\n",
    "E) 1                       # PSF fine sampling factor relative to data \n",
    "F) none                    # Bad pixel mask (FITS image or ASCII coord list)\n",
    "G) none                    # File with parameter constraints (ASCII file)\n",
    "H) 0 1000 0 1000           # Image region to fit (xmin xmax ymin ymax)\n",
    "I) 11 11                   # Size of the convolution box (x y)\n",
    "J) 25.0                    # Magnitude photometric zeropoint \n",
    "K) 0.03 0.03               # Plate scale (dx dy) [arcsec per pixel]\n",
    "O) regular                 # Display type (regular, curses, both)\n",
    "P) 0                       # Choose: 0=optimize, 1=model, 2=imgblock, 3=subcomps\n",
    "\n",
    "# ------------------------------------------------------------------------------\n",
    "# INITIAL FITTING PARAMETERS\n",
    "#\n",
    "#   For object type, the allowed functions are: \n",
    "#       nuker, sersic, expdisk, devauc, king, psf, gaussian, moffat, \n",
    "#       ferrer, powsersic, sky, and isophote. \n",
    "#  \n",
    "#   Hidden parameters will only appear when they're specified:\n",
    "#       C0 (diskyness/boxyness), \n",
    "#       Fn (n=integer, Azimuthal Fourier Modes),\n",
    "#       R0-R10 (PA rotation, for creating spiral structures).\n",
    "# \n",
    "# -----------------------------------------------------------------------------\n",
    "#   par)    par value(s)    fit toggle(s)    # parameter description \n",
    "# -----------------------------------------------------------------------------\n",
    "\n",
    "\"\"\"\n",
    "\n",
    "# Iterate over each row in the DataFrame and accumulate the content\n",
    "for index, row in df.iterrows():\n",
    "    component_content = f\"\"\"\n",
    "# Component number: {index + 1}\n",
    "0) sersic  # Component type\n",
    "1) {row[columns['position_x']]} {row[columns['position_y']]} 1 1   # Position x, y\n",
    "3) {row[columns['magnitude']]}    1  # Integrated magnitude\n",
    "4) {row[columns['effective_radius']]}    1    # R_e (effective radius) [pix]\n",
    "5) {row[columns['sersic_index']]}    1   # Sersic index n (de Vaucouleurs n=4)\n",
    "6) 0.0000      0          #     ----- \n",
    "7) 0.0000      0          #     ----- \n",
    "8) 0.0000      0          #     ----- \n",
    "9) {row[columns['axis_ratio']]}    1   # Axis ratio (b/a)\n",
    "10) {row[columns['position_angle']]}    1 # Position angle (PA) [deg: Up=0, Left=90]\n",
    "Z) 0                       # Skip this model in output image?  (yes=1, no=0)\n",
    "\"\"\"\n",
    "    feedme_content += component_content\n",
    "\n",
    "# Save the accumulated content to a single .feedme file\n",
    "feedme_filename = '/home/riya/Desktop/gal_fit/nircam6/test.feedme'  # Name for the single feedme file\n",
    "with open(feedme_filename, 'w') as file:\n",
    "    file.write(feedme_content)\n",
    "\n",
    "print(f\"Generated {feedme_filename}\")\n"
   ]
  },
  {
   "cell_type": "code",
   "execution_count": null,
   "id": "7bde94f5-87d3-487a-bce1-b4d41822660b",
   "metadata": {},
   "outputs": [],
   "source": []
  }
 ],
 "metadata": {
  "kernelspec": {
   "display_name": "Python 3 (ipykernel)",
   "language": "python",
   "name": "python3"
  },
  "language_info": {
   "codemirror_mode": {
    "name": "ipython",
    "version": 3
   },
   "file_extension": ".py",
   "mimetype": "text/x-python",
   "name": "python",
   "nbconvert_exporter": "python",
   "pygments_lexer": "ipython3",
   "version": "3.8.10"
  }
 },
 "nbformat": 4,
 "nbformat_minor": 5
}
