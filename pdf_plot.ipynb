{
 "cells": [
  {
   "cell_type": "code",
   "execution_count": 1,
   "id": "82972efb-9a17-4767-b0ed-2ab3172c079f",
   "metadata": {},
   "outputs": [],
   "source": [
    "import numpy as np\n",
    "import matplotlib.pyplot as plt\n",
    "from scipy.stats import norm\n",
    "import seaborn as sns"
   ]
  },
  {
   "cell_type": "code",
   "execution_count": null,
   "id": "2cc221ce-b954-4934-b809-73e58a48756e",
   "metadata": {
    "scrolled": true
   },
   "outputs": [],
   "source": [
    "rs = np.loadtxt(r'/home/riya/eazy-photoz/inputs/OUTPUT/psf_rs.zout') #this code snippet is just to check the number of galaxies over a certain redshift\n",
    "rs=rs[:,-3]  #rs is redshift\n",
    "\n",
    "#rs[rs>3].size,np.max(rs),np.min(rs[rs > -90])\n",
    "\n",
    "print(rs[rs>-200].size)\n",
    "rs[rs>3].size"
   ]
  },
  {
   "cell_type": "code",
   "execution_count": null,
   "id": "3e3d1477-e1f8-46d2-b3e2-d6b0f6537245",
   "metadata": {
    "scrolled": true
   },
   "outputs": [],
   "source": [
    "axr_data = np.loadtxt(r'/home/riya/Desktop/gal_fit/nircam6_op/psf_axr.txt')\n",
    "axr = axr_data[:, 0]\n",
    "print(axr)"
   ]
  },
  {
   "cell_type": "code",
   "execution_count": null,
   "id": "d360a056-fa30-4535-b30c-a866f3e87ddf",
   "metadata": {
    "scrolled": true
   },
   "outputs": [],
   "source": [
    "#this snippet load the required data\n",
    "data_r = np.loadtxt(r'/home/riya/eazy-photoz/inputs/OUTPUT/psf_rs.zout')\n",
    "rs= data_r[:,-3]\n",
    "print(len(rs))\n",
    "\n",
    "axr_data = np.loadtxt(r'/home/riya/Desktop/gal_fit/nircam6_op/psf_axr.txt')\n",
    "axr = axr_data[:, 0]\n",
    "\n",
    "b1_indices = (rs >= 0) & (rs <= 1.5)\n",
    "b2_indices = (rs >=1.5) & (rs < 3)\n",
    "b3_indices = (rs >= 3)\n",
    "\n",
    "\n",
    "# Extract redshift values for each bin\n",
    "b1 = rs[b1_indices]\n",
    "b2 = rs[b2_indices]\n",
    "b3 = rs[b3_indices]\n",
    "\n",
    "# Extract corresponding axis ratios for each bin\n",
    "axr_b1 = axr[b1_indices]\n",
    "axr_b2 = axr[b2_indices]\n",
    "axr_b3 = axr[b3_indices]\n",
    "\n",
    "# Print lengths of bins and corresponding axis ratios\n",
    "print('b1:', len(b1), 'b2:', len(b2), 'b3:', len(b3))\n",
    "print('axis ratios b1:', len(axr_b1))\n",
    "print('axis ratios b2:', len(axr_b2))\n",
    "print('axis ratios b3:', len(axr_b3))"
   ]
  },
  {
   "cell_type": "code",
   "execution_count": null,
   "id": "e69826c7-6578-4695-88bf-54855e3a7d1c",
   "metadata": {},
   "outputs": [],
   "source": [
    "#this snippet plots the required data\n",
    "import matplotlib.pyplot as plt\n",
    "import seaborn as sns\n",
    "\n",
    "# Plot the 1-D PDF for Redshift bin 0-1.5\n",
    "plt.figure(figsize=(12, 6))\n",
    "plt.hist(b1, bins=50, density=True, alpha=0.5, color='g', edgecolor='black')\n",
    "sns.kdeplot(b1, color='r', label='KDE')\n",
    "plt.xlabel('Redshift 0-1.5')\n",
    "plt.ylabel('Probability Density')\n",
    "plt.title('1-D Probability Density Function of Redshift bin 0-1.5 psf')\n",
    "plt.savefig('1-D Probability Density Function of Redshift bin 0-1.5 psf.png')\n",
    "plt.legend()\n",
    "plt.show()\n",
    "\n",
    "# Plot the 1-D PDF for Redshift bin 1.5-3\n",
    "plt.figure(figsize=(12, 6))\n",
    "plt.hist(b2, bins=50, density=True, alpha=0.5, color='g', edgecolor='black')\n",
    "sns.kdeplot(b2, color='r', label='KDE')\n",
    "plt.xlabel('Redshift 1.5-3')\n",
    "plt.ylabel('Probability Density')\n",
    "plt.title('1-D Probability Density Function of Redshift bin 1.5-3 psf')\n",
    "plt.savefig('1-D Probability Density Function of Redshift bin 1.5-3 psf.png')\n",
    "plt.legend()\n",
    "plt.show()\n",
    "\n",
    "# Plot the 1-D PDF for Redshift bin >3\n",
    "plt.figure(figsize=(12, 6))\n",
    "plt.hist(b3, bins=50, density=True, alpha=0.5, color='g', edgecolor='black')\n",
    "sns.kdeplot(b3, color='r', label='KDE')\n",
    "plt.xlabel('Redshift > 3')\n",
    "plt.ylabel('Probability Density')\n",
    "plt.title('1-D Probability Density Function of Redshift bin > 3 psf')\n",
    "plt.savefig('1-D Probability Density Function of Redshift bin > 3 psf.png')\n",
    "\n",
    "plt.legend()\n",
    "plt.show()\n"
   ]
  },
  {
   "cell_type": "code",
   "execution_count": null,
   "id": "ea922f1d-00e0-4ac9-bd66-219edeee2e9f",
   "metadata": {},
   "outputs": [],
   "source": [
    "import matplotlib.pyplot as plt\n",
    "import seaborn as sns\n",
    "\n",
    "# Plot the 1-D PDF for Axis-ratio with redshift bin 0-1.5\n",
    "plt.figure(figsize=(12, 6))\n",
    "plt.hist(axr_b1, bins=100, density=True, alpha=0.6, color='g', edgecolor='black')\n",
    "sns.kdeplot(axr_b1, color='r', label='KDE')\n",
    "plt.xlabel('Axis-Ratio')\n",
    "plt.ylabel('Probability Density')\n",
    "plt.title('1-D PDF of Axis-ratio: z = 0-1.5(with psf)')\n",
    "plt.legend()\n",
    "plt.savefig('1-D PDF of Axis-ratio: z = 0-1.5(with psf).png')\n",
    "plt.show()\n",
    "\n",
    "# Plot the 1-D PDF for Axis-ratio with redshift bin 1.5-3\n",
    "plt.figure(figsize=(12, 6))\n",
    "plt.hist(axr_b2, bins=100, density=True, alpha=0.6, color='g', edgecolor='black')\n",
    "sns.kdeplot(axr_b2, color='r', label='KDE')\n",
    "plt.xlabel('Axis-Ratio')\n",
    "plt.ylabel('Probability Density')\n",
    "plt.title('1-D PDF of Axis-ratio: z = 1.5 - 3(with psf)')\n",
    "plt.savefig('1-D PDF of Axis-ratio: z = 1.5 - 3(with psf)3.png')\n",
    "plt.legend()\n",
    "plt.show()\n",
    "\n",
    "# Plot the 1-D PDF for Axis-ratio with redshift bin >3\n",
    "plt.figure(figsize=(12, 6))\n",
    "plt.hist(axr_b3, bins=20, density=True, alpha=0.6, color='g', edgecolor='black')\n",
    "sns.kdeplot(axr_b3, color='r', label='KDE')\n",
    "plt.xlabel('Axis-Ratio')\n",
    "plt.ylabel('Probability Density')\n",
    "plt.title('1-D PDF of Axis-ratio: z >3(with psf)')\n",
    "plt.savefig('1-D PDF of Axis-ratio: z >3(with psf).png')\n",
    "plt.legend()\n",
    "plt.show()\n"
   ]
  },
  {
   "cell_type": "code",
   "execution_count": null,
   "id": "8a216cd9-704d-4127-bd4d-c75790da5e14",
   "metadata": {},
   "outputs": [],
   "source": [
    "plt.figure(figsize=(10, 6))\n",
    "\n",
    "# Plotting the histograms\n",
    "plt.hist(axr_b1, bins=10, edgecolor='k', alpha=0.4, label='z=0-1.5', color='blue',density=True)\n",
    "plt.hist(axr_b2, bins=10, edgecolor='k', alpha=0.4, label='z=1.5-3', color='green',density=True)\n",
    "plt.hist(axr_b3, bins=10, edgecolor='k', alpha=0.4, label='z>3',     color='red',density=True)\n",
    "\n",
    "# Adding labels and title\n",
    "plt.xlabel('Axis Ratio')\n",
    "plt.ylabel('Number of Galaxies')\n",
    "plt.title('Combined Histograms of Axis Ratios')\n",
    "\n",
    "# Adding a legend\n",
    "plt.legend()\n",
    "\n",
    "# Show the plot\n",
    "plt.show()\n"
   ]
  },
  {
   "cell_type": "code",
   "execution_count": null,
   "id": "b05af70e-8c56-4264-9a13-7a89124064cd",
   "metadata": {},
   "outputs": [],
   "source": []
  },
  {
   "cell_type": "code",
   "execution_count": 12,
   "id": "5edfacd0-ad55-4417-b68a-a5edc9e05b4b",
   "metadata": {},
   "outputs": [],
   "source": [
    "import matplotlib.pyplot as plt"
   ]
  },
  {
   "cell_type": "code",
   "execution_count": null,
   "id": "2b8d06c5-f050-4243-bfd0-8ec8a64b42af",
   "metadata": {},
   "outputs": [],
   "source": [
    "plt.figure(figsize=(10, 8))\n",
    "plt.hist2d(axr_b1,b1, bins= [30, 30], density=True, cmap='Blues')\n",
    "plt.colorbar(label='Probability Density')\n",
    "plt.xlabel('Axis Ratio')\n",
    "plt.ylabel('Redshift')\n",
    "plt.title('2D PDF z = 0 - 1.5')\n",
    "plt.show()\n",
    "\n",
    "\n",
    "plt.figure(figsize=(10, 8))\n",
    "plt.hist2d(axr_b2, b2, bins=[30, 30], density=True, cmap='Blues')\n",
    "plt.colorbar(label='Probability Density')\n",
    "plt.xlabel('Axis Ratio')\n",
    "plt.ylabel('Redshift')\n",
    "plt.title('2D PDF z = 1.5 - 3')\n",
    "plt.show()\n",
    "\n",
    "\n",
    "plt.figure(figsize=(10, 8))\n",
    "plt.hist2d(axr_b3, b3, bins=[30, 30], density=True, cmap='Blues')\n",
    "plt.colorbar(label='Probability Density')\n",
    "plt.xlabel('Axis Ratio')\n",
    "plt.ylabel('Redshift')\n",
    "plt.title('2D PDF z > 3')\n",
    "plt.show()"
   ]
  },
  {
   "cell_type": "code",
   "execution_count": null,
   "id": "d50b998e-5878-495b-8546-eb453863fbc3",
   "metadata": {},
   "outputs": [],
   "source": []
  }
 ],
 "metadata": {
  "kernelspec": {
   "display_name": "Python 3 (ipykernel)",
   "language": "python",
   "name": "python3"
  },
  "language_info": {
   "codemirror_mode": {
    "name": "ipython",
    "version": 3
   },
   "file_extension": ".py",
   "mimetype": "text/x-python",
   "name": "python",
   "nbconvert_exporter": "python",
   "pygments_lexer": "ipython3",
   "version": "3.8.10"
  }
 },
 "nbformat": 4,
 "nbformat_minor": 5
}
